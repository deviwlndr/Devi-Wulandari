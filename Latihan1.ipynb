{
  "nbformat": 4,
  "nbformat_minor": 0,
  "metadata": {
    "colab": {
      "provenance": [],
      "authorship_tag": "ABX9TyMO/5t4EVvxZzvL5bjeMqqj",
      "include_colab_link": true
    },
    "kernelspec": {
      "name": "python3",
      "display_name": "Python 3"
    },
    "language_info": {
      "name": "python"
    }
  },
  "cells": [
    {
      "cell_type": "markdown",
      "metadata": {
        "id": "view-in-github",
        "colab_type": "text"
      },
      "source": [
        "<a href=\"https://colab.research.google.com/github/deviwlndr/Devi-Wulandari/blob/main/Latihan1.ipynb\" target=\"_parent\"><img src=\"https://colab.research.google.com/assets/colab-badge.svg\" alt=\"Open In Colab\"/></a>"
      ]
    },
    {
      "cell_type": "code",
      "source": [
        "host_name = socket.gethostname()\n",
        "ip = socket.gethostbyname(host_name)\n",
        "print(\"nama komputer =\", host_name)\n",
        "print(\"ip komputer =\", ip)"
      ],
      "metadata": {
        "colab": {
          "base_uri": "https://localhost:8080/"
        },
        "id": "bri-KTp1hv1C",
        "outputId": "52b1595f-a7c8-4179-ee66-25f96a85a5ef"
      },
      "execution_count": 3,
      "outputs": [
        {
          "output_type": "stream",
          "name": "stdout",
          "text": [
            "nama komputer = 49a950dd03be\n",
            "ip komputer = 172.28.0.12\n"
          ]
        }
      ]
    },
    {
      "cell_type": "code",
      "execution_count": 1,
      "metadata": {
        "id": "cWXw4iOYhUYA"
      },
      "outputs": [],
      "source": [
        "import socket"
      ]
    }
  ]
}